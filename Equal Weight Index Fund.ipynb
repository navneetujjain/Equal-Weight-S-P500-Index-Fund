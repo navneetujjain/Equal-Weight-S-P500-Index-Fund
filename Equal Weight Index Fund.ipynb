{
 "cells": [
  {
   "cell_type": "code",
   "execution_count": null,
   "metadata": {},
   "outputs": [],
   "source": [
    "import numpy as np\n",
    "import pandas as pd\n",
    "import requests\n",
    "import xlsxwriter\n",
    "import math"
   ]
  },
  {
   "cell_type": "code",
   "execution_count": null,
   "metadata": {},
   "outputs": [],
   "source": [
    "stocks = pd.read_csv(\"sp_500_stocks.csv\")\n",
    "stocks"
   ]
  },
  {
   "cell_type": "code",
   "execution_count": null,
   "metadata": {},
   "outputs": [],
   "source": [
    "from secretz import IEX_CLOUD_API_TOKEN"
   ]
  },
  {
   "cell_type": "code",
   "execution_count": null,
   "metadata": {},
   "outputs": [],
   "source": [
    "symbol = \"AAPL\"\n",
    "api_url = f\"https://sandbox.iexapis.com/stable/stock/{symbol}/quote/?token={IEX_CLOUD_API_TOKEN}\"\n",
    "data = requests.get(api_url).json()\n",
    "print(data)"
   ]
  },
  {
   "cell_type": "code",
   "execution_count": null,
   "metadata": {},
   "outputs": [],
   "source": [
    "price = data [\"latestPrice\"]\n",
    "print(price)\n",
    "market_cap = data [\"marketCap\"]\n",
    "print(f\"{market_cap/1000000000000} Trillion\")"
   ]
  },
  {
   "cell_type": "code",
   "execution_count": null,
   "metadata": {},
   "outputs": [],
   "source": [
    "my_columns = [\"Ticker\", \"Stock Price\", \"Market Capitalization\", \"Number Of Shares To Buy\"]\n",
    "final_dataframe = pd.DataFrame(columns = my_columns)\n",
    "final_dataframe"
   ]
  },
  {
   "cell_type": "code",
   "execution_count": null,
   "metadata": {},
   "outputs": [],
   "source": [
    "final_dataframe.append(\n",
    "    pd.Series(\n",
    "    [\n",
    "        symbol,\n",
    "        price,\n",
    "        market_cap,\n",
    "        \"N/A\"\n",
    "    ],\n",
    "    index = my_columns\n",
    "    ),\n",
    "    ignore_index = True\n",
    ")"
   ]
  },
  {
   "cell_type": "code",
   "execution_count": null,
   "metadata": {},
   "outputs": [],
   "source": [
    "final_dataframe = pd.DataFrame(columns = my_columns)\n",
    "for stock in stocks[\"Ticker\"][:5]:\n",
    "    api_url = f\"https://sandbox.iexapis.com/stable/stock/{stock}/quote/?token={IEX_CLOUD_API_TOKEN}\"\n",
    "    data = requests.get(api_url).json()\n",
    "    final_dataframe = final_dataframe.append(\n",
    "        pd.Series([\n",
    "            stock,\n",
    "            data[\"latestPrice\"],\n",
    "            data[\"marketCap\"],\n",
    "            \"N/A\"\n",
    "        ],\n",
    "        index = my_columns),\n",
    "    ignore_index = True\n",
    "    )"
   ]
  },
  {
   "cell_type": "code",
   "execution_count": null,
   "metadata": {},
   "outputs": [],
   "source": [
    "final_dataframe"
   ]
  },
  {
   "cell_type": "code",
   "execution_count": null,
   "metadata": {},
   "outputs": [],
   "source": [
    "def chunks(lst, n):\n",
    "    \"\"\"Yields Successive n-sized chunks from lst\"\"\"\n",
    "    for i in range(0, len(lst), n):\n",
    "        yield lst[i:i + n]\n",
    "    "
   ]
  },
  {
   "cell_type": "code",
   "execution_count": null,
   "metadata": {},
   "outputs": [],
   "source": [
    "stocks = stocks[~stocks['Ticker'].isin(['DISCA', 'HFC','VIAC','WLTW'])]\n",
    "symbol_groups = list(chunks(stocks['Ticker'], 100))\n",
    "symbol_strings = []\n",
    "for i in range(0, len(symbol_groups)):\n",
    "    symbol_strings.append(','.join(symbol_groups[i]))\n",
    "#     print(symbol_strings[i])\n",
    "\n",
    "final_dataframe = pd.DataFrame(columns = my_columns)\n",
    "\n",
    "for symbol_string in symbol_strings:\n",
    "#     print(symbol_strings)\n",
    "    batch_api_call_url = f'https://sandbox.iexapis.com/stable/stock/market/batch/?types=quote&symbols={symbol_string}&token={IEX_CLOUD_API_TOKEN}'\n",
    "    data = requests.get(batch_api_call_url).json()\n",
    "    for symbol in symbol_string.split(','):\n",
    "        final_dataframe = final_dataframe.append(\n",
    "                                        pd.Series([symbol, \n",
    "                                                   data[symbol]['quote']['latestPrice'], \n",
    "                                                   data[symbol]['quote']['marketCap'], \n",
    "                                                   'N/A'], \n",
    "                                                  index = my_columns), \n",
    "                                        ignore_index = True)\n",
    "        \n",
    "    \n",
    "final_dataframe"
   ]
  },
  {
   "cell_type": "code",
   "execution_count": null,
   "metadata": {},
   "outputs": [],
   "source": [
    "portfolio_size = input(\"Enter The Value Of Your Portfolio\")\n",
    "try:\n",
    "    val = float(portfolio_size)\n",
    "except ValueError:\n",
    "    print(\"Enter an integer for the portfolio if you don't have one then Enter 0\\n\")\n",
    "    portfolio_size = input(\"Enter The Value Of Your Portfolio\")\n",
    "    val = float(portfolio_size)"
   ]
  },
  {
   "cell_type": "code",
   "execution_count": null,
   "metadata": {},
   "outputs": [],
   "source": [
    "position_size = val/len(final_dataframe.index)\n",
    "for i in range(len(final_dataframe.index)):\n",
    "    final_dataframe.loc[i , \"Number of Shares to Buy\"] = math.floor(position_size/final_dataframe.loc[i, \"Stock Price\"])\n",
    "final_dataframe\n",
    "\n",
    "#number_of_apple_shares = position_size/500\n",
    "#print(math.floor(number_of_apple_shares))"
   ]
  },
  {
   "cell_type": "code",
   "execution_count": null,
   "metadata": {},
   "outputs": [],
   "source": [
    "writer = pd.ExcelWriter(\"recommended trades.xlsx\", engine = \"xlsxwriter\")\n",
    "final_dataframe.to_excel(writer, \"Recommended Trades\", index = False)"
   ]
  },
  {
   "cell_type": "code",
   "execution_count": null,
   "metadata": {},
   "outputs": [],
   "source": [
    "background_color = \"#0a0a23\"\n",
    "font_color = \"#ffffff\"\n",
    "\n",
    "string_format = writer.book.add_format(\n",
    "    {\n",
    "        \"font_color\" : font_color,\n",
    "        \"bg_color\" : background_color,\n",
    "        \"border\" : 1\n",
    "    }\n",
    ")\n",
    "dollar_format = writer.book.add_format(\n",
    "    {\n",
    "        \"num_format\" : \"$0.00\",\n",
    "        \"font_color\" : font_color,\n",
    "        \"bg_color\" : background_color,\n",
    "        \"border\" : 1\n",
    "    }\n",
    ")\n",
    "integer_format = writer.book.add_format(\n",
    "    {\n",
    "        \"num_format\" : \"0\",\n",
    "        \"font_color\" : font_color,\n",
    "        \"bg_color\" : background_color,\n",
    "        \"border\" : 1\n",
    "    }\n",
    ")\n"
   ]
  },
  {
   "cell_type": "code",
   "execution_count": null,
   "metadata": {},
   "outputs": [],
   "source": [
    "column_formats = {\n",
    "    \"A\" : [\"Ticker\", string_format],\n",
    "    \"B\" : [\"Stock Price\", dollar_format],\n",
    "    \"C\" : [\"Market Capitalisation\", dollar_format],\n",
    "    \"D\" : [\"Number of Shares to Buy\", integer_format]\n",
    "}\n",
    "for column in column_formats.keys():\n",
    "    writer.sheets['Recommended Trades'].set_column(f'{column}:{column}', 20, column_formats[column][1])\n",
    "    writer.sheets['Recommended Tradess'].write(f'{column}1', column_formats[column][0], string_format)"
   ]
  },
  {
   "cell_type": "code",
   "execution_count": null,
   "metadata": {},
   "outputs": [],
   "source": [
    "writer.save()"
   ]
  }
 ],
 "metadata": {
  "language_info": {
   "name": "python"
  },
  "orig_nbformat": 4
 },
 "nbformat": 4,
 "nbformat_minor": 2
}
